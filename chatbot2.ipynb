{
  "nbformat": 4,
  "nbformat_minor": 0,
  "metadata": {
    "colab": {
      "provenance": []
    },
    "kernelspec": {
      "name": "python3",
      "display_name": "Python 3"
    },
    "language_info": {
      "name": "python"
    }
  },
  "cells": [
    {
      "cell_type": "code",
      "execution_count": null,
      "metadata": {
        "colab": {
          "base_uri": "https://localhost:8080/"
        },
        "id": "nRkuaWI2vQg2",
        "outputId": "f1a00a2c-6c85-42bf-a0d0-62e8a2c4b4a9"
      },
      "outputs": [
        {
          "output_type": "stream",
          "name": "stderr",
          "text": [
            "[nltk_data] Downloading package punkt to /root/nltk_data...\n",
            "[nltk_data]   Unzipping tokenizers/punkt.zip.\n",
            "[nltk_data] Downloading package wordnet to /root/nltk_data...\n"
          ]
        },
        {
          "output_type": "stream",
          "name": "stdout",
          "text": [
            "Hello! I'm a chatbot. Type 'bye' to exit.\n",
            "You: hi\n",
            "ChatBot: Good evening!\n",
            "You: hello\n",
            "ChatBot: Good evening!\n",
            "You: bye\n",
            "ChatBot: Goodbye!\n"
          ]
        }
      ],
      "source": [
        "import re\n",
        "import random\n",
        "import nltk\n",
        "import datetime\n",
        "import math\n",
        "\n",
        "# Download the necessary resources for nltk\n",
        "nltk.download('punkt')\n",
        "nltk.download('wordnet')\n",
        "\n",
        "from nltk.stem import WordNetLemmatizer\n",
        "\n",
        "class ChatBot:\n",
        "    def __init__(self):\n",
        "        self.lemmatizer = WordNetLemmatizer()\n",
        "        self.greetings = [\"hi\", \"hello\", \"hey\", \"hola\"]\n",
        "        self.responses = {\n",
        "            \"what's your name?\": [\"I'm a chatbot created by OpenAI.\", \"You can call me ChatGPT.\"],\n",
        "            \"how are you?\": [\"I'm just a bunch of code, so I don't have feelings, but thanks for asking!\"],\n",
        "            \"bye\": [\"Goodbye!\", \"See you later!\", \"Have a great day!\"]\n",
        "        }\n",
        "\n",
        "    def lemmatize_sentence(self, sentence):\n",
        "        tokens = nltk.word_tokenize(sentence)\n",
        "        return [self.lemmatizer.lemmatize(token) for token in tokens]\n",
        "\n",
        "    def preprocess(self, sentence):\n",
        "        return ' '.join(self.lemmatize_sentence(sentence.lower()))\n",
        "\n",
        "    def get_time_based_greeting(self):\n",
        "        current_hour = datetime.datetime.now().hour\n",
        "        if current_hour < 12:\n",
        "            return \"Good morning!\"\n",
        "        elif 12 <= current_hour < 18:\n",
        "            return \"Good afternoon!\"\n",
        "        else:\n",
        "            return \"Good evening!\"\n",
        "\n",
        "    def get_current_time(self):\n",
        "        now = datetime.datetime.now()\n",
        "        return now.strftime(\"The current time is %H:%M.\")\n",
        "\n",
        "    def get_current_date(self):\n",
        "        now = datetime.datetime.now()\n",
        "        return now.strftime(\"Today's date is %Y-%m-%d.\")\n",
        "\n",
        "    def solve_math(self, query):\n",
        "        try:\n",
        "            return f\"The answer is {eval(query)}.\"\n",
        "        except Exception as e:\n",
        "            return \"I couldn't understand the math problem.\"\n",
        "\n",
        "    def get_response(self, user_input):\n",
        "        processed_input = self.preprocess(user_input)\n",
        "\n",
        "        if \"time\" in processed_input:\n",
        "            return self.get_current_time()\n",
        "        elif \"date\" in processed_input:\n",
        "            return self.get_current_date()\n",
        "        elif any(greeting in processed_input for greeting in self.greetings):\n",
        "            return self.get_time_based_greeting()\n",
        "        elif re.search(r'\\d+\\s*[\\+\\-\\*\\/]\\s*\\d+', processed_input):\n",
        "            return self.solve_math(processed_input)\n",
        "\n",
        "        for pattern, responses in self.responses.items():\n",
        "            if re.search(pattern, processed_input):\n",
        "                return random.choice(responses)\n",
        "\n",
        "        return \"I'm sorry, I don't understand that.\"\n",
        "\n",
        "    def start_chat(self):\n",
        "        print(\"Hello! I'm a chatbot. Type 'bye' to exit.\")\n",
        "        while True:\n",
        "            user_input = input(\"You: \")\n",
        "            if user_input.lower() == 'bye':\n",
        "                print(\"ChatBot: Goodbye!\")\n",
        "                break\n",
        "            response = self.get_response(user_input)\n",
        "            print(\"ChatBot:\", response)\n",
        "\n",
        "if __name__ == \"__main__\":\n",
        "    chatbot = ChatBot()\n",
        "    chatbot.start_chat()\n"
      ]
    },
    {
      "cell_type": "code",
      "source": [],
      "metadata": {
        "id": "Aaau3ahVvXWq"
      },
      "execution_count": null,
      "outputs": []
    }
  ]
}